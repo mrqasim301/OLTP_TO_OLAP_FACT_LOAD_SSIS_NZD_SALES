{
 "cells": [
  {
   "cell_type": "code",
   "execution_count": 56,
   "metadata": {},
   "outputs": [],
   "source": [
    "import pandas as pd # data processing, CSV file I/O (e.g. pd.read_csv)\n",
    "import json as js\n",
    "import requests as rq\n",
    "import os\n",
    "#import numpy as np # linear algebra\n",
    "#import seaborn as sns # For creating plots\n",
    "#import matplotlib.ticker as mtick # For specifying the axes tick format \n",
    "#import matplotlib.pyplot as plt\n"
   ]
  },
  {
   "cell_type": "code",
   "execution_count": 57,
   "metadata": {},
   "outputs": [],
   "source": [
    "df=pd.read_json('https://api.exchangeratesapi.io/latest?base=USD')"
   ]
  },
  {
   "cell_type": "code",
   "execution_count": 49,
   "metadata": {},
   "outputs": [],
   "source": [
    "#df.to_csv('latest_currency_rates.CSV')"
   ]
  },
  {
   "cell_type": "code",
   "execution_count": 31,
   "metadata": {},
   "outputs": [],
   "source": [
    "#df.to_csv('D:\\latest_currency_rates.csv', index=False)"
   ]
  },
  {
   "cell_type": "code",
   "execution_count": 58,
   "metadata": {},
   "outputs": [
    {
     "name": "stdout",
     "output_type": "stream",
     "text": [
      "Error handlingwhile deleting file  D:\\latest_currency_rates.csv\n",
      "Error while deleting file  D:\\latest_currency_rates.csv\n"
     ]
    }
   ],
   "source": [
    "##\n",
    "def main():\n",
    "    filePath = 'D:\\latest_currency_rates.csv';\n",
    "    # Remove a file\n",
    "    #os.remove('D:\\latest_currency_rates.csv')\n",
    "    FileNotFoundError\n",
    "    # As file at filePath is deleted now, so we should check if file exists or not not before deleting them\n",
    "    if os.path.exists(filePath):\n",
    "        os.remove(filePath)\n",
    "    else:\n",
    "        print(\"File not found!\")\n",
    "    # Handle errors while calling os.remove()\n",
    "    try:\n",
    "        os.remove(filePath)\n",
    "    except:\n",
    "        print(\"Error handlingwhile deleting file \", filePath)\n",
    "    # Handle errors while calling os.ulink()\n",
    "    try:\n",
    "        os.ulink(filePath)\n",
    "    except:\n",
    "        print(\"Error while deleting file \", filePath)\n",
    "if __name__ == '__main__':\n",
    "    main()"
   ]
  },
  {
   "cell_type": "code",
   "execution_count": 59,
   "metadata": {},
   "outputs": [],
   "source": [
    "df.to_csv('D:\\latest_currency_rates.csv', index= True)"
   ]
  },
  {
   "cell_type": "code",
   "execution_count": null,
   "metadata": {},
   "outputs": [],
   "source": []
  }
 ],
 "metadata": {
  "kernelspec": {
   "display_name": "Python 3",
   "language": "python",
   "name": "python3"
  },
  "language_info": {
   "codemirror_mode": {
    "name": "ipython",
    "version": 3
   },
   "file_extension": ".py",
   "mimetype": "text/x-python",
   "name": "python",
   "nbconvert_exporter": "python",
   "pygments_lexer": "ipython3",
   "version": "3.7.6"
  }
 },
 "nbformat": 4,
 "nbformat_minor": 4
}
